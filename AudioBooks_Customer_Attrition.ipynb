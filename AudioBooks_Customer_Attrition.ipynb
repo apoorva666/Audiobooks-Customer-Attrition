{
  "nbformat": 4,
  "nbformat_minor": 0,
  "metadata": {
    "colab": {
      "name": " AudioBooks Customer Attrition",
      "provenance": [],
      "collapsed_sections": [],
      "mount_file_id": "1Cv7-YObRZMCyECL8D0FWUo9dKX97KrS3",
      "authorship_tag": "ABX9TyOqfM0gnic38s6I13v5H3tn",
      "include_colab_link": true
    },
    "kernelspec": {
      "display_name": "Python 3",
      "name": "python3"
    },
    "language_info": {
      "name": "python"
    },
    "accelerator": "GPU"
  },
  "cells": [
    {
      "cell_type": "markdown",
      "metadata": {
        "id": "view-in-github",
        "colab_type": "text"
      },
      "source": [
        "<a href=\"https://colab.research.google.com/github/apoorva666/Audiobooks-Customer-Attrition/blob/main/AudioBooks_Customer_Attrition.ipynb\" target=\"_parent\"><img src=\"https://colab.research.google.com/assets/colab-badge.svg\" alt=\"Open In Colab\"/></a>"
      ]
    },
    {
      "cell_type": "markdown",
      "metadata": {
        "id": "kjfgKkJjlip-"
      },
      "source": [
        "***Data Preprocessing - There are many missing values in 'Review 10/10' column which have been replaced with their average value***"
      ]
    },
    {
      "cell_type": "markdown",
      "metadata": {
        "id": "N3UYcvwZmTo1"
      },
      "source": [
        "**Importing packages & extracting data from .csv file**"
      ]
    },
    {
      "cell_type": "code",
      "metadata": {
        "id": "yHQjfpr4mfPc"
      },
      "source": [
        "import numpy as np\n",
        "import pandas as pd\n",
        "from sklearn import preprocessing                       #Contains features for standardizing"
      ],
      "execution_count": null,
      "outputs": []
    },
    {
      "cell_type": "code",
      "metadata": {
        "colab": {
          "base_uri": "https://localhost:8080/"
        },
        "id": "BVVujXWBTqL7",
        "outputId": "6c9683bb-03d7-41a8-826d-69c8ce356bf5"
      },
      "source": [
        "from google.colab import drive\n",
        "drive.mount('/content/drive')"
      ],
      "execution_count": null,
      "outputs": [
        {
          "output_type": "stream",
          "text": [
            "Drive already mounted at /content/drive; to attempt to forcibly remount, call drive.mount(\"/content/drive\", force_remount=True).\n"
          ],
          "name": "stdout"
        }
      ]
    },
    {
      "cell_type": "code",
      "metadata": {
        "id": "7TpUEw99TqUl"
      },
      "source": [
        "import pandas as pd\n",
        "raw_data=pd.read_csv('/content/drive/My Drive/Colab Notebooks/Audiobooks attrition/Audiobooks_data.csv')"
      ],
      "execution_count": null,
      "outputs": []
    },
    {
      "cell_type": "code",
      "metadata": {
        "colab": {
          "base_uri": "https://localhost:8080/",
          "height": 461
        },
        "id": "hkkr3Pe_X97z",
        "outputId": "41f6220a-90e2-4ec2-a943-bb5d43c4244c"
      },
      "source": [
        "raw_data"
      ],
      "execution_count": null,
      "outputs": [
        {
          "output_type": "execute_result",
          "data": {
            "text/html": [
              "<div>\n",
              "<style scoped>\n",
              "    .dataframe tbody tr th:only-of-type {\n",
              "        vertical-align: middle;\n",
              "    }\n",
              "\n",
              "    .dataframe tbody tr th {\n",
              "        vertical-align: top;\n",
              "    }\n",
              "\n",
              "    .dataframe thead th {\n",
              "        text-align: right;\n",
              "    }\n",
              "</style>\n",
              "<table border=\"1\" class=\"dataframe\">\n",
              "  <thead>\n",
              "    <tr style=\"text-align: right;\">\n",
              "      <th></th>\n",
              "      <th>Unnamed: 0</th>\n",
              "      <th>Book_length(mins)_overall</th>\n",
              "      <th>Book_length(mins)_avg</th>\n",
              "      <th>Price_overall</th>\n",
              "      <th>Price_avg</th>\n",
              "      <th>Review</th>\n",
              "      <th>Review10/10</th>\n",
              "      <th>Completion</th>\n",
              "      <th>Minutes_listened</th>\n",
              "      <th>Support_Request</th>\n",
              "      <th>Last_Visited_mins_Purchase_date</th>\n",
              "      <th>Target</th>\n",
              "    </tr>\n",
              "  </thead>\n",
              "  <tbody>\n",
              "    <tr>\n",
              "      <th>0</th>\n",
              "      <td>994</td>\n",
              "      <td>1620.0</td>\n",
              "      <td>1620</td>\n",
              "      <td>19.73</td>\n",
              "      <td>19.73</td>\n",
              "      <td>1</td>\n",
              "      <td>10.00</td>\n",
              "      <td>0.99</td>\n",
              "      <td>1603.8</td>\n",
              "      <td>5</td>\n",
              "      <td>92</td>\n",
              "      <td>0</td>\n",
              "    </tr>\n",
              "    <tr>\n",
              "      <th>1</th>\n",
              "      <td>1143</td>\n",
              "      <td>2160.0</td>\n",
              "      <td>2160</td>\n",
              "      <td>5.33</td>\n",
              "      <td>5.33</td>\n",
              "      <td>0</td>\n",
              "      <td>8.91</td>\n",
              "      <td>0.00</td>\n",
              "      <td>0.0</td>\n",
              "      <td>0</td>\n",
              "      <td>0</td>\n",
              "      <td>0</td>\n",
              "    </tr>\n",
              "    <tr>\n",
              "      <th>2</th>\n",
              "      <td>2059</td>\n",
              "      <td>2160.0</td>\n",
              "      <td>2160</td>\n",
              "      <td>5.33</td>\n",
              "      <td>5.33</td>\n",
              "      <td>0</td>\n",
              "      <td>8.91</td>\n",
              "      <td>0.00</td>\n",
              "      <td>0.0</td>\n",
              "      <td>0</td>\n",
              "      <td>388</td>\n",
              "      <td>0</td>\n",
              "    </tr>\n",
              "    <tr>\n",
              "      <th>3</th>\n",
              "      <td>2882</td>\n",
              "      <td>1620.0</td>\n",
              "      <td>1620</td>\n",
              "      <td>5.96</td>\n",
              "      <td>5.96</td>\n",
              "      <td>0</td>\n",
              "      <td>8.91</td>\n",
              "      <td>0.42</td>\n",
              "      <td>680.4</td>\n",
              "      <td>1</td>\n",
              "      <td>129</td>\n",
              "      <td>0</td>\n",
              "    </tr>\n",
              "    <tr>\n",
              "      <th>4</th>\n",
              "      <td>3342</td>\n",
              "      <td>2160.0</td>\n",
              "      <td>2160</td>\n",
              "      <td>5.33</td>\n",
              "      <td>5.33</td>\n",
              "      <td>0</td>\n",
              "      <td>8.91</td>\n",
              "      <td>0.22</td>\n",
              "      <td>475.2</td>\n",
              "      <td>0</td>\n",
              "      <td>361</td>\n",
              "      <td>0</td>\n",
              "    </tr>\n",
              "    <tr>\n",
              "      <th>...</th>\n",
              "      <td>...</td>\n",
              "      <td>...</td>\n",
              "      <td>...</td>\n",
              "      <td>...</td>\n",
              "      <td>...</td>\n",
              "      <td>...</td>\n",
              "      <td>...</td>\n",
              "      <td>...</td>\n",
              "      <td>...</td>\n",
              "      <td>...</td>\n",
              "      <td>...</td>\n",
              "      <td>...</td>\n",
              "    </tr>\n",
              "    <tr>\n",
              "      <th>14079</th>\n",
              "      <td>28220</td>\n",
              "      <td>1620.0</td>\n",
              "      <td>1620</td>\n",
              "      <td>5.33</td>\n",
              "      <td>5.33</td>\n",
              "      <td>1</td>\n",
              "      <td>9.00</td>\n",
              "      <td>0.61</td>\n",
              "      <td>988.2</td>\n",
              "      <td>0</td>\n",
              "      <td>4</td>\n",
              "      <td>0</td>\n",
              "    </tr>\n",
              "    <tr>\n",
              "      <th>14080</th>\n",
              "      <td>28671</td>\n",
              "      <td>1080.0</td>\n",
              "      <td>1080</td>\n",
              "      <td>6.55</td>\n",
              "      <td>6.55</td>\n",
              "      <td>1</td>\n",
              "      <td>6.00</td>\n",
              "      <td>0.29</td>\n",
              "      <td>313.2</td>\n",
              "      <td>0</td>\n",
              "      <td>29</td>\n",
              "      <td>0</td>\n",
              "    </tr>\n",
              "    <tr>\n",
              "      <th>14081</th>\n",
              "      <td>31134</td>\n",
              "      <td>2160.0</td>\n",
              "      <td>2160</td>\n",
              "      <td>6.14</td>\n",
              "      <td>6.14</td>\n",
              "      <td>0</td>\n",
              "      <td>8.91</td>\n",
              "      <td>0.00</td>\n",
              "      <td>0.0</td>\n",
              "      <td>0</td>\n",
              "      <td>0</td>\n",
              "      <td>0</td>\n",
              "    </tr>\n",
              "    <tr>\n",
              "      <th>14082</th>\n",
              "      <td>32832</td>\n",
              "      <td>1620.0</td>\n",
              "      <td>1620</td>\n",
              "      <td>5.33</td>\n",
              "      <td>5.33</td>\n",
              "      <td>1</td>\n",
              "      <td>8.00</td>\n",
              "      <td>0.38</td>\n",
              "      <td>615.6</td>\n",
              "      <td>0</td>\n",
              "      <td>90</td>\n",
              "      <td>0</td>\n",
              "    </tr>\n",
              "    <tr>\n",
              "      <th>14083</th>\n",
              "      <td>251</td>\n",
              "      <td>1674.0</td>\n",
              "      <td>3348</td>\n",
              "      <td>5.33</td>\n",
              "      <td>10.67</td>\n",
              "      <td>0</td>\n",
              "      <td>8.91</td>\n",
              "      <td>0.00</td>\n",
              "      <td>0.0</td>\n",
              "      <td>0</td>\n",
              "      <td>0</td>\n",
              "      <td>1</td>\n",
              "    </tr>\n",
              "  </tbody>\n",
              "</table>\n",
              "<p>14084 rows × 12 columns</p>\n",
              "</div>"
            ],
            "text/plain": [
              "       Unnamed: 0  ...  Target\n",
              "0             994  ...       0\n",
              "1            1143  ...       0\n",
              "2            2059  ...       0\n",
              "3            2882  ...       0\n",
              "4            3342  ...       0\n",
              "...           ...  ...     ...\n",
              "14079       28220  ...       0\n",
              "14080       28671  ...       0\n",
              "14081       31134  ...       0\n",
              "14082       32832  ...       0\n",
              "14083         251  ...       1\n",
              "\n",
              "[14084 rows x 12 columns]"
            ]
          },
          "metadata": {
            "tags": []
          },
          "execution_count": 22
        }
      ]
    },
    {
      "cell_type": "markdown",
      "metadata": {
        "id": "Cr9LWLXyqh5A"
      },
      "source": [
        "**Understanding the data**"
      ]
    },
    {
      "cell_type": "markdown",
      "metadata": {
        "id": "ZCiegNqEtAJm"
      },
      "source": [
        "**ID: Customer ID.**\n",
        "\n",
        "**Book_length(mins)_overall: Sum of the lengths of purchases.**\n",
        "\n",
        "**Book_length(mins)_avg: Sum of the lengths of purchases divided by the number of purchases.**\n",
        "\n",
        "**Price_overall & Price_avg: Total money spent, money spent on an average.**\n",
        "\n",
        "**Review: Boolean values. It shows if the customer left a review. If so, Review10/10 saves the review left by the user.**\n",
        "\n",
        "**Minutes_listened: is a measure of engagement, the total of minutes the user listened to audiobooks.**\n",
        "\n",
        "**Completion: Minutes_listened / Book_length(mins)_overall.**\n",
        "\n",
        "**Support_Request: Shows the total number of support request.**\n",
        "\n",
        "**Last_Visited_mins_Purchase_date: the bigger the difference, the higher sooner the engagement.**"
      ]
    },
    {
      "cell_type": "markdown",
      "metadata": {
        "id": "KADGaqwHSIbK"
      },
      "source": [
        "**Visualization**"
      ]
    },
    {
      "cell_type": "code",
      "metadata": {
        "id": "7emF1saNSRDl"
      },
      "source": [
        "import matplotlib.pyplot as plt\n",
        "import seaborn as sns\n",
        "%matplotlib inline"
      ],
      "execution_count": null,
      "outputs": []
    },
    {
      "cell_type": "code",
      "metadata": {
        "id": "8vGLxUtN1DX6"
      },
      "source": [
        "original_data = raw_data.values #Converting dataframe to numpy array"
      ],
      "execution_count": null,
      "outputs": []
    },
    {
      "cell_type": "code",
      "metadata": {
        "id": "OjE6xWLspE--"
      },
      "source": [
        "input_data = original_data[:,1:-1]      #Preparing input & target data\n",
        "target_data = original_data[:,-1]"
      ],
      "execution_count": null,
      "outputs": []
    },
    {
      "cell_type": "markdown",
      "metadata": {
        "id": "1FI-e1-c2tHN"
      },
      "source": [
        "**Balancing the dataset to prevent bias**"
      ]
    },
    {
      "cell_type": "code",
      "metadata": {
        "colab": {
          "base_uri": "https://localhost:8080/"
        },
        "id": "8-LF0k4haaZu",
        "outputId": "a180e671-b774-4958-a2b0-7f9398901c22"
      },
      "source": [
        "no_one_targets = int(np.sum(target_data)) #Counting the no. of 1s\n",
        "no_one_targets"
      ],
      "execution_count": null,
      "outputs": [
        {
          "output_type": "execute_result",
          "data": {
            "text/plain": [
              "2237"
            ]
          },
          "metadata": {
            "tags": []
          },
          "execution_count": 9
        }
      ]
    },
    {
      "cell_type": "code",
      "metadata": {
        "id": "RiE5thCS3IjC"
      },
      "source": [
        "no_zero_targets_counter=0                              #Counter keeps track of how many times equivalent values are added\n",
        "\n",
        "indices_to_remove = []           #We'll be removing some entries as part of the balancing process\n",
        "\n",
        "for i in range(target_data.shape[0]):  #Number of rows\n",
        "     if target_data[i] == 0:\n",
        "        no_zero_targets_counter += 1\n",
        "        if no_zero_targets_counter > no_one_targets:\n",
        "              indices_to_remove.append(i)\n",
        "\n",
        "balanced_inputs = np.delete(input_data, indices_to_remove, axis=0)   #Deletes all those rows from input data that contain removable indices\n",
        "balanced_targets = np.delete(target_data, indices_to_remove, axis=0)"
      ],
      "execution_count": null,
      "outputs": []
    },
    {
      "cell_type": "markdown",
      "metadata": {
        "id": "s77KZ5A-4FZn"
      },
      "source": [
        "**Standardizing the inputs**"
      ]
    },
    {
      "cell_type": "code",
      "metadata": {
        "id": "owMpyo16ej2Z"
      },
      "source": [
        "scaled_inputs=preprocessing.scale(balanced_inputs)"
      ],
      "execution_count": null,
      "outputs": []
    },
    {
      "cell_type": "markdown",
      "metadata": {
        "id": "2vlqWzfNj_SC"
      },
      "source": [
        "**Shuffling data**"
      ]
    },
    {
      "cell_type": "code",
      "metadata": {
        "id": "0JxxqFBdk-hW"
      },
      "source": [
        "shuffled_indices=np.arange(scaled_inputs.shape[0])\n",
        "np.random.shuffle(shuffled_indices)"
      ],
      "execution_count": null,
      "outputs": []
    },
    {
      "cell_type": "code",
      "metadata": {
        "id": "MY68V-K-kx1u"
      },
      "source": [
        "shuffled_inputs=scaled_inputs[shuffled_indices]\n",
        "shuffled_targets=balanced_targets[shuffled_indices]"
      ],
      "execution_count": null,
      "outputs": []
    },
    {
      "cell_type": "markdown",
      "metadata": {
        "id": "ISJ7swxHqFcK"
      },
      "source": [
        "**Splitting into train, validation, & testing**"
      ]
    },
    {
      "cell_type": "code",
      "metadata": {
        "id": "shH6gMP-p5Vz"
      },
      "source": [
        "balanced_row_count=shuffled_inputs.shape[0]\n",
        "\n",
        "train_count = int(0.8 * balanced_row_count)\n",
        "validation_count = int(0.1 * balanced_row_count)\n",
        "test_count = balanced_row_count - train_count - validation_count"
      ],
      "execution_count": null,
      "outputs": []
    },
    {
      "cell_type": "code",
      "metadata": {
        "id": "pjAeKynKku6A"
      },
      "source": [
        "train_inputs=shuffled_inputs[:train_count]\n",
        "train_targets=shuffled_targets[:train_count]\n",
        "\n",
        "validation_inputs = shuffled_inputs[train_count:train_count+validation_count]\n",
        "validation_targets = shuffled_targets[train_count:train_count+validation_count]\n",
        "\n",
        "test_inputs = shuffled_inputs[train_count+validation_count:]\n",
        "test_targets = shuffled_targets[train_count+validation_count:]"
      ],
      "execution_count": null,
      "outputs": []
    },
    {
      "cell_type": "markdown",
      "metadata": {
        "id": "qlSpMNVHxgHL"
      },
      "source": [
        "**Balancing the split dataset**"
      ]
    },
    {
      "cell_type": "code",
      "metadata": {
        "colab": {
          "base_uri": "https://localhost:8080/"
        },
        "id": "sbLynZpOxlxq",
        "outputId": "b215ba91-0681-4b79-a46f-c125c176a3ff"
      },
      "source": [
        "print(np.sum(train_targets), train_count, np.sum(train_targets) / train_count)\n",
        "print(np.sum(validation_targets), validation_count, np.sum(validation_targets) / validation_count)\n",
        "print(np.sum(test_targets), test_count, np.sum(test_targets) / test_count)\n",
        "\n",
        "#Outputs should be close to 50%"
      ],
      "execution_count": null,
      "outputs": [
        {
          "output_type": "stream",
          "text": [
            "1809.0 3579 0.5054484492875104\n",
            "198.0 447 0.4429530201342282\n",
            "230.0 448 0.5133928571428571\n"
          ],
          "name": "stdout"
        }
      ]
    },
    {
      "cell_type": "markdown",
      "metadata": {
        "id": "UyIvYp-czFg6"
      },
      "source": [
        "**Save the three datasets in .npz**"
      ]
    },
    {
      "cell_type": "code",
      "metadata": {
        "id": "tq00kJmXxc6v"
      },
      "source": [
        "np.savez('Audiobooks_data_train', inputs=train_inputs, targets=train_targets)\n",
        "np.savez('Audiobooks_data_validation', inputs=validation_inputs, targets=validation_targets)\n",
        "np.savez('Audiobooks_data_test', inputs=test_inputs, targets=test_targets)"
      ],
      "execution_count": null,
      "outputs": []
    },
    {
      "cell_type": "markdown",
      "metadata": {
        "id": "pC4fssgVRfyX"
      },
      "source": [
        "**Machine Learning**"
      ]
    },
    {
      "cell_type": "code",
      "metadata": {
        "id": "G8BV37VdRinf"
      },
      "source": [
        "import numpy as np\n",
        "import tensorflow as tf"
      ],
      "execution_count": null,
      "outputs": []
    },
    {
      "cell_type": "code",
      "metadata": {
        "id": "ApgV006ckRwc"
      },
      "source": [
        "npz=np.load('Audiobooks_data_train.npz')\n",
        "train_inputs=npz['inputs'].astype(np.float)\n",
        "train_targets=npz['targets'].astype(np.int)\n",
        "\n",
        "npz=np.load('Audiobooks_data_validation.npz')\n",
        "validation_inputs=npz['inputs'].astype(np.float)\n",
        "validation_targets=npz['targets'].astype(np.int)\n",
        "\n",
        "npz=np.load('Audiobooks_data_test.npz')\n",
        "test_inputs=npz['inputs'].astype(np.float)\n",
        "test_targets=npz['targets'].astype(np.int)"
      ],
      "execution_count": null,
      "outputs": []
    },
    {
      "cell_type": "code",
      "metadata": {
        "colab": {
          "base_uri": "https://localhost:8080/"
        },
        "id": "xwkii60rkO-k",
        "outputId": "f943e79c-3af6-4d8f-ebb0-4b32472f46d4"
      },
      "source": [
        "# Set the input and output sizes\n",
        "input_size = 10\n",
        "output_size = 2\n",
        "hidden_layer_size = 300\n",
        "    \n",
        "# define how the model will look like\n",
        "model = tf.keras.Sequential([\n",
        "    # tf.keras.layers.Dense implements: output = activation(dot(input, weight) + bias)\n",
        "    tf.keras.layers.Dense(hidden_layer_size, activation='relu'), # 1st hidden layer\n",
        "    tf.keras.layers.Dense(hidden_layer_size, activation='relu'), # 2nd hidden layer\n",
        "    \n",
        "    tf.keras.layers.Dense(output_size, activation='softmax') # output layer\n",
        "])\n",
        "\n",
        "# we define the optimizer we'd like to use, the loss function, and the metrics we are interested in obtaining at each iteration\n",
        "model.compile(optimizer='adam', loss='sparse_categorical_crossentropy', metrics=['accuracy'])\n",
        "\n",
        "# Training\n",
        "batch_size = 100\n",
        "max_epochs = 100\n",
        "\n",
        "#Early stopping\n",
        "early_stopping=tf.keras.callbacks.EarlyStopping(patience=2) #Patience= the number of loss increases that are tolerable\n",
        "\n",
        "# fit the model\n",
        "model.fit(train_inputs, \n",
        "          train_targets, \n",
        "          batch_size=batch_size, \n",
        "          epochs=max_epochs, # epochs that we will train for \n",
        "          callbacks=[early_stopping],\n",
        "          validation_data=(validation_inputs, validation_targets), # validation data\n",
        "          verbose = 2 # making sure we get enough information about the training process\n",
        "          )  "
      ],
      "execution_count": null,
      "outputs": [
        {
          "output_type": "stream",
          "text": [
            "Epoch 1/100\n",
            "36/36 - 0s - loss: 0.4540 - accuracy: 0.7555 - val_loss: 0.4407 - val_accuracy: 0.7494\n",
            "Epoch 2/100\n",
            "36/36 - 0s - loss: 0.3684 - accuracy: 0.8016 - val_loss: 0.3827 - val_accuracy: 0.8054\n",
            "Epoch 3/100\n",
            "36/36 - 0s - loss: 0.3479 - accuracy: 0.8106 - val_loss: 0.3768 - val_accuracy: 0.7987\n",
            "Epoch 4/100\n",
            "36/36 - 0s - loss: 0.3464 - accuracy: 0.8178 - val_loss: 0.3574 - val_accuracy: 0.8031\n",
            "Epoch 5/100\n",
            "36/36 - 0s - loss: 0.3421 - accuracy: 0.8122 - val_loss: 0.3705 - val_accuracy: 0.7942\n",
            "Epoch 6/100\n",
            "36/36 - 0s - loss: 0.3403 - accuracy: 0.8097 - val_loss: 0.3648 - val_accuracy: 0.8076\n"
          ],
          "name": "stdout"
        },
        {
          "output_type": "execute_result",
          "data": {
            "text/plain": [
              "<tensorflow.python.keras.callbacks.History at 0x7f676804f550>"
            ]
          },
          "metadata": {
            "tags": []
          },
          "execution_count": 23
        }
      ]
    },
    {
      "cell_type": "markdown",
      "metadata": {
        "id": "oTFRdr_w9EsE"
      },
      "source": [
        "**Testing the model**"
      ]
    },
    {
      "cell_type": "code",
      "metadata": {
        "colab": {
          "base_uri": "https://localhost:8080/"
        },
        "id": "W54vi9hH9HYy",
        "outputId": "4f1b61e7-fe14-4572-b01a-c0f0470fbd2b"
      },
      "source": [
        "test_loss,test_accuracy=model.evaluate(test_inputs,test_targets)"
      ],
      "execution_count": null,
      "outputs": [
        {
          "output_type": "stream",
          "text": [
            "14/14 [==============================] - 0s 2ms/step - loss: 0.3619 - accuracy: 0.8036\n"
          ],
          "name": "stdout"
        }
      ]
    },
    {
      "cell_type": "code",
      "metadata": {
        "colab": {
          "base_uri": "https://localhost:8080/"
        },
        "id": "2MG6rqTbekBy",
        "outputId": "d9f1ad1b-5e13-4987-cfd6-ead1abe0b84e"
      },
      "source": [
        "print('Test loss:{0:.2f}, Test accuracy:{1:.2f}'.format(test_loss*100, test_accuracy*100))"
      ],
      "execution_count": null,
      "outputs": [
        {
          "output_type": "stream",
          "text": [
            "Test loss:36.19, Test accuracy:80.36\n"
          ],
          "name": "stdout"
        }
      ]
    },
    {
      "cell_type": "code",
      "metadata": {
        "id": "XcasPVL191hW"
      },
      "source": [
        ""
      ],
      "execution_count": null,
      "outputs": []
    }
  ]
}